{
  "nbformat": 4,
  "nbformat_minor": 0,
  "metadata": {
    "colab": {
      "provenance": [],
      "authorship_tag": "ABX9TyPxi2QXpmBxfkeh6B4Gud3x",
      "include_colab_link": true
    },
    "kernelspec": {
      "name": "python3",
      "display_name": "Python 3"
    },
    "language_info": {
      "name": "python"
    }
  },
  "cells": [
    {
      "cell_type": "markdown",
      "metadata": {
        "id": "view-in-github",
        "colab_type": "text"
      },
      "source": [
        "<a href=\"https://colab.research.google.com/github/nithinkt09/dlexp/blob/main/pyto_exp.ipynb\" target=\"_parent\"><img src=\"https://colab.research.google.com/assets/colab-badge.svg\" alt=\"Open In Colab\"/></a>"
      ]
    },
    {
      "cell_type": "code",
      "source": [
        "from google.colab import drive\n",
        "drive.mount('/content/drive/')\n",
        "\n",
        "import os\n",
        "data_folder = '/content/drive/MyDrive/dataexp'\n",
        "\n",
        "if os.path.exists(data_folder):\n",
        "  print(\"Data folder exists\")\n",
        "else:\n",
        "  print(\"Data folder does not exist\")"
      ],
      "metadata": {
        "colab": {
          "base_uri": "https://localhost:8080/"
        },
        "id": "ntsqfvxv03TG",
        "outputId": "35b895e4-bb6c-417c-bad0-c713d39eb773"
      },
      "execution_count": null,
      "outputs": [
        {
          "output_type": "stream",
          "name": "stdout",
          "text": [
            "Mounted at /content/drive/\n",
            "Data folder exists\n"
          ]
        }
      ]
    },
    {
      "cell_type": "code",
      "source": [
        "import torch\n",
        "import pandas as pd\n",
        "import numpy as np\n",
        "import matplotlib.pyplot as plt\n"
      ],
      "metadata": {
        "id": "tObj-rniFE7V"
      },
      "execution_count": null,
      "outputs": []
    },
    {
      "cell_type": "markdown",
      "source": [
        "tensor: multidimensional array (a gneral form of a matrix) similar to that of numpy array that holds numerical data, where they can be scalar, vector, or multidemensional"
      ],
      "metadata": {
        "id": "DSSJRTkNHqq5"
      }
    },
    {
      "cell_type": "code",
      "source": [
        "# scalar\n",
        "scalar = torch.torch.tensor(32)\n",
        "print(scalar)\n",
        "print(f'tensor type: {type(scalar)}')\n",
        "print(f'dimension: {scalar.ndim}')\n",
        "print(f'value: {scalar.item()}')"
      ],
      "metadata": {
        "colab": {
          "base_uri": "https://localhost:8080/"
        },
        "id": "S_1iP8X6IJmL",
        "outputId": "aed9591b-3fd0-4078-efc3-e0ca6ba9ffaa"
      },
      "execution_count": null,
      "outputs": [
        {
          "output_type": "stream",
          "name": "stdout",
          "text": [
            "tensor(32)\n",
            "tensor type: <class 'torch.Tensor'>\n",
            "dimension: 0\n",
            "value: 32\n"
          ]
        }
      ]
    },
    {
      "cell_type": "code",
      "source": [
        "# vector\n",
        "vector = torch.tensor([1, 2, 3])\n",
        "print(vector)\n",
        "print(f'tensor type: {type(vector)}')\n",
        "print(f'dimension: {vector.ndim}')\n",
        "print(f'shape: {vector.shape}')"
      ],
      "metadata": {
        "colab": {
          "base_uri": "https://localhost:8080/"
        },
        "id": "_wScn2M3I1Fk",
        "outputId": "b08f65d9-c707-4e06-f548-626aa884e668"
      },
      "execution_count": null,
      "outputs": [
        {
          "output_type": "stream",
          "name": "stdout",
          "text": [
            "tensor([1, 2, 3])\n",
            "tensor type: <class 'torch.Tensor'>\n",
            "dimension: 1\n",
            "shape: torch.Size([3])\n"
          ]
        }
      ]
    },
    {
      "cell_type": "code",
      "source": [
        "# matrix\n",
        "MATRIX = torch.tensor([[1, 3, 1], [4, 9, 5]])\n",
        "print(MATRIX.ndim)\n",
        "print(MATRIX.shape)\n",
        "print(MATRIX[1])\n",
        "print(MATRIX[1][2])"
      ],
      "metadata": {
        "colab": {
          "base_uri": "https://localhost:8080/"
        },
        "id": "eP7seqIUKeHT",
        "outputId": "36f1024a-cae1-48e1-effc-205d44d26d58"
      },
      "execution_count": null,
      "outputs": [
        {
          "output_type": "stream",
          "name": "stdout",
          "text": [
            "2\n",
            "torch.Size([2, 3])\n",
            "tensor([4, 9, 5])\n",
            "tensor(5)\n"
          ]
        }
      ]
    },
    {
      "cell_type": "code",
      "source": [
        "# tensor\n",
        "TENSOR = torch.tensor(\n",
        "   [\n",
        "       [\n",
        "        [[1, 2, 3],  [5, 1, 4], [9, 3, 2]],\n",
        "        [[8, 92, 43], [5, 1, 4], [9, 3, 2]]\n",
        "        ]\n",
        "     ]\n",
        ")\n",
        "print(TENSOR.shape)"
      ],
      "metadata": {
        "colab": {
          "base_uri": "https://localhost:8080/"
        },
        "id": "fs_wEiJzLCoj",
        "outputId": "a7f064ed-08b8-441b-975f-77b5924899ae"
      },
      "execution_count": null,
      "outputs": [
        {
          "output_type": "stream",
          "name": "stdout",
          "text": [
            "torch.Size([1, 2, 3, 3])\n"
          ]
        }
      ]
    },
    {
      "cell_type": "code",
      "source": [
        "# random tensor\n",
        "random_tensor = torch.rand(1, 2, 2, 3)\n",
        "print(random_tensor)\n",
        "print(random_tensor.ndim)\n",
        "print(random_tensor.shape)"
      ],
      "metadata": {
        "colab": {
          "base_uri": "https://localhost:8080/"
        },
        "id": "r2cdSK6VMNPC",
        "outputId": "0b3982cb-5bd9-4c02-8bae-49f3026b1729"
      },
      "execution_count": null,
      "outputs": [
        {
          "output_type": "stream",
          "name": "stdout",
          "text": [
            "tensor([[[[0.1419, 0.0295, 0.2107],\n",
            "          [0.0501, 0.2930, 0.4810]],\n",
            "\n",
            "         [[0.2610, 0.8212, 0.9816],\n",
            "          [0.9523, 0.8546, 0.3446]]]])\n",
            "4\n",
            "torch.Size([1, 2, 2, 3])\n"
          ]
        }
      ]
    },
    {
      "cell_type": "code",
      "source": [
        "# zero tensors\n",
        "ZERO_TENSOR = torch.zeros(2, 3,)\n",
        "\n",
        "# one tensors\n",
        "ONE_TENSOR = torch.ones(2, 2)\n",
        "\n",
        "# identity tensor\n",
        "IDENTITY_TENSOR = torch.eye(3)\n",
        "\n",
        "print(ZERO_TENSOR)\n",
        "print(ONE_TENSOR)\n",
        "print(IDENTITY_TENSOR)"
      ],
      "metadata": {
        "colab": {
          "base_uri": "https://localhost:8080/"
        },
        "id": "OfQdKM0fMrbT",
        "outputId": "95d046ce-08e3-4b2d-8d86-548dd3bbe181"
      },
      "execution_count": null,
      "outputs": [
        {
          "output_type": "stream",
          "name": "stdout",
          "text": [
            "tensor([[0., 0., 0.],\n",
            "        [0., 0., 0.]])\n",
            "tensor([[1., 1.],\n",
            "        [1., 1.]])\n",
            "tensor([[1., 0., 0.],\n",
            "        [0., 1., 0.],\n",
            "        [0., 0., 1.]])\n"
          ]
        }
      ]
    },
    {
      "cell_type": "code",
      "source": [
        "A = torch.rand(10, 3)\n",
        "B = torch.rand(3, 4)\n",
        "C = torch.matmul(A, B)\n",
        "print(C)\n",
        "print(C.shape)"
      ],
      "metadata": {
        "colab": {
          "base_uri": "https://localhost:8080/"
        },
        "id": "9Uq4-rpsNd2T",
        "outputId": "48705c91-ad9b-41d1-f277-d41de07016bc"
      },
      "execution_count": null,
      "outputs": [
        {
          "output_type": "stream",
          "name": "stdout",
          "text": [
            "tensor([[0.4272, 1.3082, 0.6278, 0.9775],\n",
            "        [0.5471, 1.5798, 0.7480, 1.2788],\n",
            "        [0.1437, 0.4412, 0.1849, 0.3604],\n",
            "        [0.5040, 1.3053, 0.7766, 1.0119],\n",
            "        [0.1445, 0.4786, 0.2109, 0.3474],\n",
            "        [0.4143, 1.3167, 0.5212, 1.0717],\n",
            "        [0.1840, 0.7075, 0.2155, 0.5458],\n",
            "        [0.3157, 0.9150, 0.4361, 0.7340],\n",
            "        [0.4910, 1.7060, 0.6357, 1.3092],\n",
            "        [0.3598, 1.5735, 0.3722, 1.2043]])\n",
            "torch.Size([10, 4])\n"
          ]
        }
      ]
    },
    {
      "cell_type": "code",
      "source": [
        "x = torch.rand(10, dtype=torch.float32)\n",
        "print(x.min())\n",
        "print(x.max())\n",
        "print(x.mean())\n",
        "print(x.argmin())\n",
        "print(x.argmax())\n"
      ],
      "metadata": {
        "colab": {
          "base_uri": "https://localhost:8080/"
        },
        "id": "8utbigRgoKas",
        "outputId": "73fb5ac1-c657-4ea5-d9c0-d8e1c88b6e57"
      },
      "execution_count": null,
      "outputs": [
        {
          "output_type": "stream",
          "name": "stdout",
          "text": [
            "tensor(0.0431)\n",
            "tensor(0.9149)\n",
            "tensor(0.3365)\n",
            "tensor(8)\n",
            "tensor(6)\n"
          ]
        }
      ]
    },
    {
      "cell_type": "code",
      "source": [
        "# reshaping\n",
        "x = torch.arange(1., 10)\n",
        "\n",
        "x_reshaped = x.reshape(3, 3)\n",
        "print(x_reshaped)\n",
        "print(x.dtype)"
      ],
      "metadata": {
        "colab": {
          "base_uri": "https://localhost:8080/"
        },
        "id": "SzNBdeU1pKUw",
        "outputId": "908fa528-d98d-43ce-a23f-0baf059f6609"
      },
      "execution_count": null,
      "outputs": [
        {
          "output_type": "stream",
          "name": "stdout",
          "text": [
            "tensor([[1., 2., 3.],\n",
            "        [4., 5., 6.],\n",
            "        [7., 8., 9.]])\n",
            "torch.float32\n"
          ]
        }
      ]
    },
    {
      "cell_type": "code",
      "source": [
        "# stack tensors on top\n"
      ],
      "metadata": {
        "id": "TNDddFcNqhSk"
      },
      "execution_count": null,
      "outputs": []
    }
  ]
}